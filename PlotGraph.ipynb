{
 "cells": [
  {
   "cell_type": "code",
   "execution_count": 1,
   "id": "70854406-86e7-47a9-a830-5435f1028f02",
   "metadata": {},
   "outputs": [],
   "source": [
    "from greenbutton import parse"
   ]
  },
  {
   "cell_type": "code",
   "execution_count": 2,
   "id": "06d37f73-70f1-4729-b668-41389f19e9e7",
   "metadata": {},
   "outputs": [],
   "source": [
    "parsedDatas = parse.parse_feed('/Users/arian/Documents/greenbutton-python/testdata/Alectra_Electric_2024-01-19-2025-01-19.xml')"
   ]
  },
  {
   "cell_type": "code",
   "execution_count": 3,
   "id": "fdfb66ff-1f94-4511-99ca-6ac8f075904a",
   "metadata": {},
   "outputs": [],
   "source": [
    "parsedData = parsedDatas[0]"
   ]
  },
  {
   "cell_type": "code",
   "execution_count": 4,
   "id": "1bc44b55-0485-490b-a5bb-296a51cbf0e3",
   "metadata": {},
   "outputs": [],
   "source": [
    "meterReadings = list(parsedData.meterReadings)"
   ]
  },
  {
   "cell_type": "code",
   "execution_count": 5,
   "id": "9474cdc9-66a9-4986-bb04-c5a7e65f353c",
   "metadata": {},
   "outputs": [],
   "source": [
    "meterReading = meterReadings[0]"
   ]
  },
  {
   "cell_type": "code",
   "execution_count": 6,
   "id": "f9eec163-6478-44ba-bfc9-ef8d14276cc4",
   "metadata": {},
   "outputs": [],
   "source": [
    "intervalBlocks = meterReading.intervalBlocks"
   ]
  },
  {
   "cell_type": "code",
   "execution_count": 7,
   "id": "34e2f345-39ae-4e67-bc18-4adc3a792cfd",
   "metadata": {},
   "outputs": [
    {
     "data": {
      "text/plain": [
       "366"
      ]
     },
     "execution_count": 7,
     "metadata": {},
     "output_type": "execute_result"
    }
   ],
   "source": [
    "len(intervalBlocks)\n",
    "# there is one intervalBlock for each day"
   ]
  },
  {
   "cell_type": "code",
   "execution_count": 8,
   "id": "8afba76e-f5de-431c-99e2-ae1048e7cdf1",
   "metadata": {},
   "outputs": [],
   "source": [
    "intervalBlock = intervalBlocks[-1]"
   ]
  },
  {
   "cell_type": "code",
   "execution_count": 9,
   "id": "cf525872-4fdd-4fd2-b837-32d4eb6330dc",
   "metadata": {},
   "outputs": [],
   "source": [
    "intervalReadings = intervalBlock.intervalReadings"
   ]
  },
  {
   "cell_type": "code",
   "execution_count": 10,
   "id": "a29a3391-227d-45c9-ab56-6b6cec44223b",
   "metadata": {},
   "outputs": [
    {
     "data": {
      "text/plain": [
       "24"
      ]
     },
     "execution_count": 10,
     "metadata": {},
     "output_type": "execute_result"
    }
   ],
   "source": [
    "len(intervalReadings)\n",
    "# there is one intervalReading for each hour"
   ]
  },
  {
   "cell_type": "code",
   "execution_count": 11,
   "id": "3c2ecc4c-fc52-4802-8999-3220958dbf45",
   "metadata": {},
   "outputs": [],
   "source": [
    "intervalReading = intervalReadings[-1]"
   ]
  },
  {
   "cell_type": "code",
   "execution_count": 12,
   "id": "a6dc0466-ce4a-467a-8278-ddd027bb1c6f",
   "metadata": {},
   "outputs": [
    {
     "data": {
      "text/plain": [
       "(510.0, 'Wh', '@', 0.076, '$')"
      ]
     },
     "execution_count": 12,
     "metadata": {},
     "output_type": "execute_result"
    }
   ],
   "source": [
    "intervalReading.value, intervalReading.value_symbol, '@', intervalReading.cost, intervalReading.cost_symbol"
   ]
  },
  {
   "cell_type": "code",
   "execution_count": 13,
   "id": "243c074f-e4fc-4b5e-8d6f-b1af9d9ad0b9",
   "metadata": {},
   "outputs": [],
   "source": [
    "# tou: 3=off-peak, 2=mid-peak, 1=on-peak\n",
    "# selectedIntervalReading.tou"
   ]
  },
  {
   "cell_type": "code",
   "execution_count": 14,
   "id": "e851365f-1662-4a7c-bd83-3feba949f8ad",
   "metadata": {},
   "outputs": [],
   "source": [
    "onPeak = [intervalReading \n",
    "          for intervalBlock in intervalBlocks[1:] \n",
    "          for intervalReading in intervalBlock.intervalReadings\n",
    "          if intervalReading.tou == 1]\n",
    "midPeak = [intervalReading \n",
    "          for intervalBlock in intervalBlocks[1:] \n",
    "          for intervalReading in intervalBlock.intervalReadings\n",
    "          if intervalReading.tou == 2]\n",
    "offPeak = [intervalReading \n",
    "          for intervalBlock in intervalBlocks[1:] \n",
    "          for intervalReading in intervalBlock.intervalReadings\n",
    "          if intervalReading.tou == 3]"
   ]
  },
  {
   "cell_type": "code",
   "execution_count": 15,
   "id": "11267fbc-217c-4b9d-ba47-75ad343d3351",
   "metadata": {},
   "outputs": [],
   "source": [
    "class DataPoint:\n",
    "    def __init__(self, date, tou1, tou2, tou3, onCost, midCost, offCost):\n",
    "        self.date = date\n",
    "        self.onPeak = tou1\n",
    "        self.midPeak = tou2\n",
    "        self.offPeak = tou3\n",
    "        self.onCost = onCost\n",
    "        self.midCost = midCost\n",
    "        self.offCost = offCost"
   ]
  },
  {
   "cell_type": "code",
   "execution_count": 16,
   "id": "fedacc28-0685-4024-a287-1b01b36ad3a5",
   "metadata": {},
   "outputs": [],
   "source": [
    "dataPoints = []"
   ]
  },
  {
   "cell_type": "code",
   "execution_count": 17,
   "id": "7e77ce54-8a5f-4419-bb34-f70d14225813",
   "metadata": {},
   "outputs": [],
   "source": [
    "for intervalReading in onPeak:\n",
    "    value = intervalReading.value/1000\n",
    "    price = intervalReading.cost\n",
    "    cost = value*price\n",
    "    dataPoints.append(DataPoint(intervalReading.timePeriod.start, value, 0, 0, cost, 0, 0))"
   ]
  },
  {
   "cell_type": "code",
   "execution_count": 18,
   "id": "f8d76eff-7c93-4212-8b85-413b0158abd0",
   "metadata": {},
   "outputs": [],
   "source": [
    "for intervalReading in midPeak:\n",
    "    value = intervalReading.value/1000\n",
    "    price = intervalReading.cost\n",
    "    cost = value*price\n",
    "    dataPoints.append(DataPoint(intervalReading.timePeriod.start, 0, value, 0, 0, cost, 0))"
   ]
  },
  {
   "cell_type": "code",
   "execution_count": 19,
   "id": "e3427b74-082e-4a65-9f80-978498f15894",
   "metadata": {},
   "outputs": [],
   "source": [
    "for intervalReading in offPeak:\n",
    "    value = intervalReading.value/1000\n",
    "    price = intervalReading.cost\n",
    "    cost = value*price\n",
    "    dataPoints.append(DataPoint(intervalReading.timePeriod.start, 0, 0, value, 0, 0, cost))"
   ]
  },
  {
   "cell_type": "code",
   "execution_count": 20,
   "id": "7c018aa8-f8c6-46f9-a557-1fef591e970f",
   "metadata": {},
   "outputs": [
    {
     "data": {
      "text/plain": [
       "8759"
      ]
     },
     "execution_count": 20,
     "metadata": {},
     "output_type": "execute_result"
    }
   ],
   "source": [
    "len(dataPoints)"
   ]
  },
  {
   "cell_type": "code",
   "execution_count": 21,
   "id": "e4bf7049-115d-4837-b131-3915cd89e1ae",
   "metadata": {},
   "outputs": [],
   "source": [
    "data_dict = {\n",
    "    'date': [point.date for point in dataPoints],\n",
    "    'onPeak': [point.onPeak for point in dataPoints],\n",
    "    'midPeak': [point.midPeak for point in dataPoints],\n",
    "    'offPeak': [point.offPeak for point in dataPoints],\n",
    "    'onCost': [point.onCost for point in dataPoints],\n",
    "    'midCost': [point.midCost for point in dataPoints],\n",
    "    'offCost': [point.offCost for point in dataPoints],\n",
    "}"
   ]
  },
  {
   "cell_type": "code",
   "execution_count": 22,
   "id": "e68c9232-49bb-4276-abda-b7cece203291",
   "metadata": {},
   "outputs": [],
   "source": [
    "import pandas as pd"
   ]
  },
  {
   "cell_type": "code",
   "execution_count": 23,
   "id": "9ab23b3d-e321-42ae-b344-2557e844a0a5",
   "metadata": {},
   "outputs": [],
   "source": [
    "df = pd.DataFrame(data_dict)"
   ]
  },
  {
   "cell_type": "code",
   "execution_count": 24,
   "id": "87855f3c-08b8-4681-91c1-4aaae3462fcc",
   "metadata": {},
   "outputs": [],
   "source": [
    "df.sort_values(by='date', inplace=True)"
   ]
  },
  {
   "cell_type": "code",
   "execution_count": 25,
   "id": "6b069659-7a91-4ad3-bea7-361c996abd12",
   "metadata": {},
   "outputs": [],
   "source": [
    "df = df.reset_index(drop=True)"
   ]
  },
  {
   "cell_type": "code",
   "execution_count": 26,
   "id": "da86c698-1d17-48d1-b85b-3122dc3531ea",
   "metadata": {},
   "outputs": [],
   "source": [
    "df['date'] = df['date'].dt.tz_convert('America/Vancouver')\n",
    "# for some reason my power company gives the time in PST"
   ]
  },
  {
   "cell_type": "code",
   "execution_count": 27,
   "id": "a6bf9b48-baf5-474e-a918-cb2897298060",
   "metadata": {},
   "outputs": [
    {
     "name": "stderr",
     "output_type": "stream",
     "text": [
      "/var/folders/fc/lrm7xw097cn10lqtth3cq8880000gn/T/ipykernel_98760/3816791393.py:1: UserWarning: Converting to PeriodArray/Index representation will drop timezone information.\n",
      "  df['group_key'] = df['date'].dt.to_period('D')\n"
     ]
    }
   ],
   "source": [
    "df['group_key'] = df['date'].dt.to_period('D')\n",
    "df.drop('date', axis=1, inplace=True)\n",
    "grouping = df.groupby('group_key').sum()\n",
    "grouping = grouping.reset_index()\n",
    "grouping['total'] = (grouping['onPeak'] + grouping['midPeak'] + grouping['offPeak'])\n",
    "grouping['totalCost'] = (grouping['onCost'] + grouping['midCost'] + grouping['offCost'])"
   ]
  },
  {
   "cell_type": "code",
   "execution_count": 28,
   "id": "5640f453-1e12-470c-bc85-5926a2068edf",
   "metadata": {},
   "outputs": [],
   "source": [
    "grouping = grouping[1:-1]"
   ]
  },
  {
   "cell_type": "code",
   "execution_count": 29,
   "id": "c3217055-4f24-4d7b-9fe0-78a82bb3cbca",
   "metadata": {},
   "outputs": [],
   "source": [
    "subselection = grouping[:31]\n",
    "#subselection.head(3)"
   ]
  },
  {
   "cell_type": "code",
   "execution_count": 30,
   "id": "16145169-c85c-4bcd-a997-c3e087d27fac",
   "metadata": {},
   "outputs": [],
   "source": [
    "%matplotlib widget\n",
    "import matplotlib.pyplot as plt\n",
    "import numpy as np"
   ]
  },
  {
   "cell_type": "code",
   "execution_count": 31,
   "id": "c5788dc9-2938-48d6-b3fa-b3e6d5287756",
   "metadata": {},
   "outputs": [],
   "source": [
    "x = subselection['group_key'].astype(str).tolist()\n",
    "y1 = subselection['onPeak'].to_numpy()\n",
    "y2 = subselection['midPeak'].to_numpy()\n",
    "y3 = subselection['offPeak'].to_numpy()"
   ]
  },
  {
   "cell_type": "code",
   "execution_count": 32,
   "id": "1ce0d70a-0823-430c-95eb-b2093115aefe",
   "metadata": {},
   "outputs": [
    {
     "data": {
      "application/vnd.jupyter.widget-view+json": {
       "model_id": "8751ed36b6fc4ecda7faccd00cd80ce8",
       "version_major": 2,
       "version_minor": 0
      },
      "image/png": "[encoded data removed]",
      "text/html": [
       "\n",
       "            <div style=\"display: inline-block;\">\n",
       "                <div class=\"jupyter-widgets widget-label\" style=\"text-align: center;\">\n",
       "                    Figure\n",
       "                </div>\n",
       "                <img src='data:image/png;base64,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' width=640.0/>\n",
       "            </div>\n",
       "        "
      ],
      "text/plain": [
       "Canvas(toolbar=Toolbar(toolitems=[('Home', 'Reset original view', 'home', 'home'), ('Back', 'Back to previous …"
      ]
     },
     "metadata": {},
     "output_type": "display_data"
    }
   ],
   "source": [
    "plt.figure(constrained_layout=True)\n",
    "plt.bar(x, y1, color='r')\n",
    "plt.bar(x, y2, bottom=y1, color='y')\n",
    "plt.bar(x, y3, bottom=y1+y2, color='g')\n",
    "plt.xticks(rotation=90)\n",
    "plt.ylabel(\"kWh\")\n",
    "plt.legend([\"On Peak\", \"Mid Peak\", \"Off Peak\"])\n",
    "plt.show()"
   ]
  },
  {
   "cell_type": "code",
   "execution_count": null,
   "id": "41f3a5a8-8bb4-4ea0-a42b-c18515cbab58",
   "metadata": {},
   "outputs": [],
   "source": []
  }
 ],
 "metadata": {
  "kernelspec": {
   "display_name": "Python 3 (ipykernel)",
   "language": "python",
   "name": "python3"
  },
  "language_info": {
   "codemirror_mode": {
    "name": "ipython",
    "version": 3
   },
   "file_extension": ".py",
   "mimetype": "text/x-python",
   "name": "python",
   "nbconvert_exporter": "python",
   "pygments_lexer": "ipython3",
   "version": "3.9.6"
  }
 },
 "nbformat": 4,
 "nbformat_minor": 5
}
